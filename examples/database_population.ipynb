{
 "cells": [
  {
   "cell_type": "code",
   "execution_count": null,
   "id": "85796f9a",
   "metadata": {},
   "outputs": [],
   "source": [
    "%pip install llama-index-embeddings-openai\n",
    "%pip install llama-index-llms-azure-openai"
   ]
  },
  {
   "cell_type": "code",
   "execution_count": null,
   "id": "53144b73",
   "metadata": {},
   "outputs": [],
   "source": [
    "!pip install llama-index"
   ]
  },
  {
   "cell_type": "code",
   "execution_count": null,
   "id": "95c94111",
   "metadata": {},
   "outputs": [],
   "source": [
    "pip install --upgrade llama-index llama-index-embeddings-azure-openai"
   ]
  },
  {
   "cell_type": "code",
   "execution_count": 1,
   "id": "de2ed587",
   "metadata": {},
   "outputs": [],
   "source": [
    "import os\n",
    "import json\n",
    "import openai\n",
    "from llama_index.llms.azure_openai import AzureOpenAI\n",
    "from llama_index.embeddings.openai import OpenAIEmbedding, OpenAIEmbeddingModelType\n",
    "from llama_index.core import VectorStoreIndex, SimpleDirectoryReader\n",
    "from llama_index.embeddings.azure_openai import AzureOpenAIEmbedding\n",
    "\n",
    "from dotenv import load_dotenv"
   ]
  },
  {
   "cell_type": "code",
   "execution_count": 2,
   "id": "c789c2a9",
   "metadata": {},
   "outputs": [],
   "source": [
    "\n",
    "load_dotenv()\n",
    "\n",
    "# Get variables from environment\n",
    "AZURE_OPENAI_MODEL = os.getenv(\"AZURE_OPENAI_MODEL\")\n",
    "AZURE_OPENAI_DEPLOYMENT_NAME = os.getenv(\"AZURE_OPENAI_DEPLOYMENT_NAME\")\n",
    "AZURE_OPENAI_BASE = os.getenv(\"AZURE_OPENAI_BASE\")\n",
    "AZURE_OPENAI_KEY = os.getenv(\"AZURE_OPENAI_KEY\")\n",
    "AZURE_OPENAI_VERSION = os.getenv(\"AZURE_OPENAI_VERSION\")\n",
    "AZURE_OPENAI_EMBEDDING_MODEL = os.getenv(\"AZURE_OPENAI_EMBEDDING_MODEL\")\n",
    "AZURE_OPENAI_EMBEDDING_MODEL_DEPLOYMENT_NAME = os.getenv(\"AZURE_OPENAI_EMBEDDING_MODEL_DEPLOYMENT_NAME\")"
   ]
  },
  {
   "cell_type": "code",
   "execution_count": 3,
   "id": "9c8cf657",
   "metadata": {},
   "outputs": [
    {
     "data": {
      "text/plain": [
       "'text-embedding-3-large'"
      ]
     },
     "execution_count": 3,
     "metadata": {},
     "output_type": "execute_result"
    }
   ],
   "source": [
    "AZURE_OPENAI_EMBEDDING_MODEL"
   ]
  },
  {
   "cell_type": "code",
   "execution_count": 4,
   "id": "be2e2211",
   "metadata": {},
   "outputs": [],
   "source": [
    "llm = AzureOpenAI(\n",
    "    model=AZURE_OPENAI_MODEL,\n",
    "    deployment_name=AZURE_OPENAI_DEPLOYMENT_NAME,\n",
    "    azure_endpoint=AZURE_OPENAI_BASE,\n",
    "    api_key=AZURE_OPENAI_KEY,\n",
    "    api_version=AZURE_OPENAI_VERSION,\n",
    ")\n",
    "\n",
    "embed_model = AzureOpenAIEmbedding(\n",
    "    model=OpenAIEmbeddingModelType.TEXT_EMBED_3_LARGE,\n",
    "    deployment_name=AZURE_OPENAI_EMBEDDING_MODEL_DEPLOYMENT_NAME,\n",
    "    azure_endpoint=AZURE_OPENAI_BASE,\n",
    "    api_key=AZURE_OPENAI_KEY,\n",
    "    api_version=AZURE_OPENAI_VERSION,\n",
    ")"
   ]
  },
  {
   "cell_type": "code",
   "execution_count": 5,
   "id": "ae6a4f40",
   "metadata": {},
   "outputs": [],
   "source": [
    "from llama_index.core import Settings\n",
    "\n",
    "Settings.llm = llm\n",
    "Settings.embed_model = embed_model"
   ]
  },
  {
   "cell_type": "code",
   "execution_count": 7,
   "id": "9d89d7fa",
   "metadata": {},
   "outputs": [
    {
     "name": "stdout",
     "output_type": "stream",
     "text": [
      "Document ID: 41526f72-92be-43c3-8458-de4360380084\n"
     ]
    }
   ],
   "source": [
    "from llama_index.core import SimpleDirectoryReader\n",
    "\n",
    "documents = SimpleDirectoryReader(\n",
    "    input_files=[r\".\\papers\\seagrass.pdf\"]\n",
    ").load_data()\n",
    "\n",
    "print(\"Document ID:\", documents[0].doc_id)"
   ]
  },
  {
   "cell_type": "code",
   "execution_count": 10,
   "id": "0a0c7aea",
   "metadata": {},
   "outputs": [
    {
     "ename": "CosmosHttpResponseError",
     "evalue": "(BadRequest) Message: {\"Errors\":[\"A Container Vector Policy has been provided, but the capability has not been enabled on your account. Visit [https://aka.ms/CosmosVectorSearch](https://aka.ms/CosmosVectorSearch) for instructions how to enable it.\"]}\r\nActivityId: e85c612d-7d9d-40d9-b413-faeb73f8700a, Request URI: /apps/9123a7fd-5225-42af-a2d5-20c920d5bf0e/services/bc5e50fb-5f6a-43b6-9998-e7050dbc3673/partitions/99e0c5f0-69f5-4acb-a9c3-42a2796df645/replicas/134032746019763574p, RequestStats: , SDK: Microsoft.Azure.Documents.Common/2.14.0\nCode: BadRequest\nMessage: Message: {\"Errors\":[\"A Container Vector Policy has been provided, but the capability has not been enabled on your account. Visit [https://aka.ms/CosmosVectorSearch](https://aka.ms/CosmosVectorSearch) for instructions how to enable it.\"]}\r\nActivityId: e85c612d-7d9d-40d9-b413-faeb73f8700a, Request URI: /apps/9123a7fd-5225-42af-a2d5-20c920d5bf0e/services/bc5e50fb-5f6a-43b6-9998-e7050dbc3673/partitions/99e0c5f0-69f5-4acb-a9c3-42a2796df645/replicas/134032746019763574p, RequestStats: , SDK: Microsoft.Azure.Documents.Common/2.14.0",
     "output_type": "error",
     "traceback": [
      "\u001b[31m---------------------------------------------------------------------------\u001b[39m",
      "\u001b[31mCosmosResourceNotFoundError\u001b[39m               Traceback (most recent call last)",
      "\u001b[36mFile \u001b[39m\u001b[32mc:\\Users\\david\\AppData\\Local\\pypoetry\\Cache\\virtualenvs\\wadden-sea-backend-reK0EWmf-py3.12\\Lib\\site-packages\\azure\\cosmos\\database.py:338\u001b[39m, in \u001b[36mDatabaseProxy.create_container_if_not_exists\u001b[39m\u001b[34m(self, id, partition_key, indexing_policy, default_ttl, populate_query_metrics, offer_throughput, unique_key_policy, conflict_resolution_policy, session_token, initial_headers, etag, match_condition, analytical_storage_ttl, vector_embedding_policy, full_text_policy, **kwargs)\u001b[39m\n\u001b[32m    337\u001b[39m container_proxy = \u001b[38;5;28mself\u001b[39m.get_container_client(\u001b[38;5;28mid\u001b[39m)\n\u001b[32m--> \u001b[39m\u001b[32m338\u001b[39m \u001b[43mcontainer_proxy\u001b[49m\u001b[43m.\u001b[49m\u001b[43mread\u001b[49m\u001b[43m(\u001b[49m\n\u001b[32m    339\u001b[39m \u001b[43m    \u001b[49m\u001b[43mpopulate_query_metrics\u001b[49m\u001b[43m=\u001b[49m\u001b[43mpopulate_query_metrics\u001b[49m\u001b[43m,\u001b[49m\n\u001b[32m    340\u001b[39m \u001b[43m    \u001b[49m\u001b[43msession_token\u001b[49m\u001b[43m=\u001b[49m\u001b[43msession_token\u001b[49m\u001b[43m,\u001b[49m\n\u001b[32m    341\u001b[39m \u001b[43m    \u001b[49m\u001b[43minitial_headers\u001b[49m\u001b[43m=\u001b[49m\u001b[43minitial_headers\u001b[49m\u001b[43m,\u001b[49m\n\u001b[32m    342\u001b[39m \u001b[43m    \u001b[49m\u001b[43m*\u001b[49m\u001b[43m*\u001b[49m\u001b[43mkwargs\u001b[49m\n\u001b[32m    343\u001b[39m \u001b[43m\u001b[49m\u001b[43m)\u001b[49m\n\u001b[32m    344\u001b[39m \u001b[38;5;28;01mreturn\u001b[39;00m container_proxy\n",
      "\u001b[36mFile \u001b[39m\u001b[32mc:\\Users\\david\\AppData\\Local\\pypoetry\\Cache\\virtualenvs\\wadden-sea-backend-reK0EWmf-py3.12\\Lib\\site-packages\\azure\\core\\tracing\\decorator.py:119\u001b[39m, in \u001b[36mdistributed_trace.<locals>.decorator.<locals>.wrapper_use_tracer\u001b[39m\u001b[34m(*args, **kwargs)\u001b[39m\n\u001b[32m    118\u001b[39m \u001b[38;5;28;01mif\u001b[39;00m user_enabled \u001b[38;5;129;01mis\u001b[39;00m \u001b[38;5;28;01mFalse\u001b[39;00m \u001b[38;5;129;01mor\u001b[39;00m (\u001b[38;5;129;01mnot\u001b[39;00m tracing_enabled \u001b[38;5;129;01mand\u001b[39;00m user_enabled \u001b[38;5;129;01mis\u001b[39;00m \u001b[38;5;28;01mNone\u001b[39;00m):\n\u001b[32m--> \u001b[39m\u001b[32m119\u001b[39m     \u001b[38;5;28;01mreturn\u001b[39;00m \u001b[43mfunc\u001b[49m\u001b[43m(\u001b[49m\u001b[43m*\u001b[49m\u001b[43margs\u001b[49m\u001b[43m,\u001b[49m\u001b[43m \u001b[49m\u001b[43m*\u001b[49m\u001b[43m*\u001b[49m\u001b[43mkwargs\u001b[49m\u001b[43m)\u001b[49m\n\u001b[32m    121\u001b[39m \u001b[38;5;66;03m# Merge span is parameter is set, but only if no explicit parent are passed\u001b[39;00m\n",
      "\u001b[36mFile \u001b[39m\u001b[32mc:\\Users\\david\\AppData\\Local\\pypoetry\\Cache\\virtualenvs\\wadden-sea-backend-reK0EWmf-py3.12\\Lib\\site-packages\\azure\\cosmos\\container.py:191\u001b[39m, in \u001b[36mContainerProxy.read\u001b[39m\u001b[34m(self, populate_query_metrics, populate_partition_key_range_statistics, populate_quota_info, session_token, priority, initial_headers, **kwargs)\u001b[39m\n\u001b[32m    190\u001b[39m     request_options[\u001b[33m\"\u001b[39m\u001b[33mpopulateQuotaInfo\u001b[39m\u001b[33m\"\u001b[39m] = populate_quota_info\n\u001b[32m--> \u001b[39m\u001b[32m191\u001b[39m container = \u001b[38;5;28;43mself\u001b[39;49m\u001b[43m.\u001b[49m\u001b[43mclient_connection\u001b[49m\u001b[43m.\u001b[49m\u001b[43mReadContainer\u001b[49m\u001b[43m(\u001b[49m\u001b[38;5;28;43mself\u001b[39;49m\u001b[43m.\u001b[49m\u001b[43mcontainer_link\u001b[49m\u001b[43m,\u001b[49m\u001b[43m \u001b[49m\u001b[43moptions\u001b[49m\u001b[43m=\u001b[49m\u001b[43mrequest_options\u001b[49m\u001b[43m,\u001b[49m\u001b[43m \u001b[49m\u001b[43m*\u001b[49m\u001b[43m*\u001b[49m\u001b[43mkwargs\u001b[49m\u001b[43m)\u001b[49m\n\u001b[32m    192\u001b[39m \u001b[38;5;66;03m# Only cache Container Properties that will not change in the lifetime of the container\u001b[39;00m\n",
      "\u001b[36mFile \u001b[39m\u001b[32mc:\\Users\\david\\AppData\\Local\\pypoetry\\Cache\\virtualenvs\\wadden-sea-backend-reK0EWmf-py3.12\\Lib\\site-packages\\azure\\cosmos\\_cosmos_client_connection.py:590\u001b[39m, in \u001b[36mCosmosClientConnection.ReadContainer\u001b[39m\u001b[34m(self, collection_link, options, **kwargs)\u001b[39m\n\u001b[32m    589\u001b[39m collection_id = base.GetResourceIdOrFullNameFromLink(collection_link)\n\u001b[32m--> \u001b[39m\u001b[32m590\u001b[39m \u001b[38;5;28;01mreturn\u001b[39;00m \u001b[38;5;28;43mself\u001b[39;49m\u001b[43m.\u001b[49m\u001b[43mRead\u001b[49m\u001b[43m(\u001b[49m\u001b[43mpath\u001b[49m\u001b[43m,\u001b[49m\u001b[43m \u001b[49m\u001b[33;43m\"\u001b[39;49m\u001b[33;43mcolls\u001b[39;49m\u001b[33;43m\"\u001b[39;49m\u001b[43m,\u001b[49m\u001b[43m \u001b[49m\u001b[43mcollection_id\u001b[49m\u001b[43m,\u001b[49m\u001b[43m \u001b[49m\u001b[38;5;28;43;01mNone\u001b[39;49;00m\u001b[43m,\u001b[49m\u001b[43m \u001b[49m\u001b[43moptions\u001b[49m\u001b[43m,\u001b[49m\u001b[43m \u001b[49m\u001b[43m*\u001b[49m\u001b[43m*\u001b[49m\u001b[43mkwargs\u001b[49m\u001b[43m)\u001b[49m\n",
      "\u001b[36mFile \u001b[39m\u001b[32mc:\\Users\\david\\AppData\\Local\\pypoetry\\Cache\\virtualenvs\\wadden-sea-backend-reK0EWmf-py3.12\\Lib\\site-packages\\azure\\cosmos\\_cosmos_client_connection.py:2746\u001b[39m, in \u001b[36mCosmosClientConnection.Read\u001b[39m\u001b[34m(self, path, typ, id, initial_headers, options, **kwargs)\u001b[39m\n\u001b[32m   2745\u001b[39m request_params = RequestObject(typ, documents._OperationType.Read)\n\u001b[32m-> \u001b[39m\u001b[32m2746\u001b[39m result, last_response_headers = \u001b[38;5;28;43mself\u001b[39;49m\u001b[43m.\u001b[49m\u001b[43m__Get\u001b[49m\u001b[43m(\u001b[49m\u001b[43mpath\u001b[49m\u001b[43m,\u001b[49m\u001b[43m \u001b[49m\u001b[43mrequest_params\u001b[49m\u001b[43m,\u001b[49m\u001b[43m \u001b[49m\u001b[43mheaders\u001b[49m\u001b[43m,\u001b[49m\u001b[43m \u001b[49m\u001b[43m*\u001b[49m\u001b[43m*\u001b[49m\u001b[43mkwargs\u001b[49m\u001b[43m)\u001b[49m\n\u001b[32m   2747\u001b[39m \u001b[38;5;28mself\u001b[39m.last_response_headers = last_response_headers\n",
      "\u001b[36mFile \u001b[39m\u001b[32mc:\\Users\\david\\AppData\\Local\\pypoetry\\Cache\\virtualenvs\\wadden-sea-backend-reK0EWmf-py3.12\\Lib\\site-packages\\azure\\cosmos\\_cosmos_client_connection.py:2808\u001b[39m, in \u001b[36mCosmosClientConnection.__Get\u001b[39m\u001b[34m(self, path, request_params, req_headers, **kwargs)\u001b[39m\n\u001b[32m   2807\u001b[39m request = \u001b[38;5;28mself\u001b[39m.pipeline_client.get(url=path, headers=req_headers)\n\u001b[32m-> \u001b[39m\u001b[32m2808\u001b[39m \u001b[38;5;28;01mreturn\u001b[39;00m \u001b[43msynchronized_request\u001b[49m\u001b[43m.\u001b[49m\u001b[43mSynchronizedRequest\u001b[49m\u001b[43m(\u001b[49m\n\u001b[32m   2809\u001b[39m \u001b[43m    \u001b[49m\u001b[43mclient\u001b[49m\u001b[43m=\u001b[49m\u001b[38;5;28;43mself\u001b[39;49m\u001b[43m,\u001b[49m\n\u001b[32m   2810\u001b[39m \u001b[43m    \u001b[49m\u001b[43mrequest_params\u001b[49m\u001b[43m=\u001b[49m\u001b[43mrequest_params\u001b[49m\u001b[43m,\u001b[49m\n\u001b[32m   2811\u001b[39m \u001b[43m    \u001b[49m\u001b[43mglobal_endpoint_manager\u001b[49m\u001b[43m=\u001b[49m\u001b[38;5;28;43mself\u001b[39;49m\u001b[43m.\u001b[49m\u001b[43m_global_endpoint_manager\u001b[49m\u001b[43m,\u001b[49m\n\u001b[32m   2812\u001b[39m \u001b[43m    \u001b[49m\u001b[43mconnection_policy\u001b[49m\u001b[43m=\u001b[49m\u001b[38;5;28;43mself\u001b[39;49m\u001b[43m.\u001b[49m\u001b[43mconnection_policy\u001b[49m\u001b[43m,\u001b[49m\n\u001b[32m   2813\u001b[39m \u001b[43m    \u001b[49m\u001b[43mpipeline_client\u001b[49m\u001b[43m=\u001b[49m\u001b[38;5;28;43mself\u001b[39;49m\u001b[43m.\u001b[49m\u001b[43mpipeline_client\u001b[49m\u001b[43m,\u001b[49m\n\u001b[32m   2814\u001b[39m \u001b[43m    \u001b[49m\u001b[43mrequest\u001b[49m\u001b[43m=\u001b[49m\u001b[43mrequest\u001b[49m\u001b[43m,\u001b[49m\n\u001b[32m   2815\u001b[39m \u001b[43m    \u001b[49m\u001b[43mrequest_data\u001b[49m\u001b[43m=\u001b[49m\u001b[38;5;28;43;01mNone\u001b[39;49;00m\u001b[43m,\u001b[49m\n\u001b[32m   2816\u001b[39m \u001b[43m    \u001b[49m\u001b[43m*\u001b[49m\u001b[43m*\u001b[49m\u001b[43mkwargs\u001b[49m\n\u001b[32m   2817\u001b[39m \u001b[43m\u001b[49m\u001b[43m)\u001b[49m\n",
      "\u001b[36mFile \u001b[39m\u001b[32mc:\\Users\\david\\AppData\\Local\\pypoetry\\Cache\\virtualenvs\\wadden-sea-backend-reK0EWmf-py3.12\\Lib\\site-packages\\azure\\cosmos\\_synchronized_request.py:214\u001b[39m, in \u001b[36mSynchronizedRequest\u001b[39m\u001b[34m(client, request_params, global_endpoint_manager, connection_policy, pipeline_client, request, request_data, **kwargs)\u001b[39m\n\u001b[32m    213\u001b[39m \u001b[38;5;66;03m# Pass _Request function with its parameters to retry_utility's Execute method that wraps the call with retries\u001b[39;00m\n\u001b[32m--> \u001b[39m\u001b[32m214\u001b[39m \u001b[38;5;28;01mreturn\u001b[39;00m \u001b[43m_retry_utility\u001b[49m\u001b[43m.\u001b[49m\u001b[43mExecute\u001b[49m\u001b[43m(\u001b[49m\n\u001b[32m    215\u001b[39m \u001b[43m    \u001b[49m\u001b[43mclient\u001b[49m\u001b[43m,\u001b[49m\n\u001b[32m    216\u001b[39m \u001b[43m    \u001b[49m\u001b[43mglobal_endpoint_manager\u001b[49m\u001b[43m,\u001b[49m\n\u001b[32m    217\u001b[39m \u001b[43m    \u001b[49m\u001b[43m_Request\u001b[49m\u001b[43m,\u001b[49m\n\u001b[32m    218\u001b[39m \u001b[43m    \u001b[49m\u001b[43mrequest_params\u001b[49m\u001b[43m,\u001b[49m\n\u001b[32m    219\u001b[39m \u001b[43m    \u001b[49m\u001b[43mconnection_policy\u001b[49m\u001b[43m,\u001b[49m\n\u001b[32m    220\u001b[39m \u001b[43m    \u001b[49m\u001b[43mpipeline_client\u001b[49m\u001b[43m,\u001b[49m\n\u001b[32m    221\u001b[39m \u001b[43m    \u001b[49m\u001b[43mrequest\u001b[49m\u001b[43m,\u001b[49m\n\u001b[32m    222\u001b[39m \u001b[43m    \u001b[49m\u001b[43m*\u001b[49m\u001b[43m*\u001b[49m\u001b[43mkwargs\u001b[49m\n\u001b[32m    223\u001b[39m \u001b[43m\u001b[49m\u001b[43m)\u001b[49m\n",
      "\u001b[36mFile \u001b[39m\u001b[32mc:\\Users\\david\\AppData\\Local\\pypoetry\\Cache\\virtualenvs\\wadden-sea-backend-reK0EWmf-py3.12\\Lib\\site-packages\\azure\\cosmos\\_retry_utility.py:97\u001b[39m, in \u001b[36mExecute\u001b[39m\u001b[34m(client, global_endpoint_manager, function, *args, **kwargs)\u001b[39m\n\u001b[32m     96\u001b[39m \u001b[38;5;28;01mif\u001b[39;00m args:\n\u001b[32m---> \u001b[39m\u001b[32m97\u001b[39m     result = \u001b[43mExecuteFunction\u001b[49m\u001b[43m(\u001b[49m\u001b[43mfunction\u001b[49m\u001b[43m,\u001b[49m\u001b[43m \u001b[49m\u001b[43mglobal_endpoint_manager\u001b[49m\u001b[43m,\u001b[49m\u001b[43m \u001b[49m\u001b[43m*\u001b[49m\u001b[43margs\u001b[49m\u001b[43m,\u001b[49m\u001b[43m \u001b[49m\u001b[43m*\u001b[49m\u001b[43m*\u001b[49m\u001b[43mkwargs\u001b[49m\u001b[43m)\u001b[49m\n\u001b[32m     98\u001b[39m \u001b[38;5;28;01melse\u001b[39;00m:\n",
      "\u001b[36mFile \u001b[39m\u001b[32mc:\\Users\\david\\AppData\\Local\\pypoetry\\Cache\\virtualenvs\\wadden-sea-backend-reK0EWmf-py3.12\\Lib\\site-packages\\azure\\cosmos\\_retry_utility.py:199\u001b[39m, in \u001b[36mExecuteFunction\u001b[39m\u001b[34m(function, *args, **kwargs)\u001b[39m\n\u001b[32m    193\u001b[39m \u001b[38;5;250m\u001b[39m\u001b[33;03m\"\"\"Stub method so that it can be used for mocking purposes as well.\u001b[39;00m\n\u001b[32m    194\u001b[39m \u001b[33;03m:param Callable function: the function to execute.\u001b[39;00m\n\u001b[32m    195\u001b[39m \u001b[33;03m:param list args: the explicit arguments for the function.\u001b[39;00m\n\u001b[32m    196\u001b[39m \u001b[33;03m:returns: the result of executing the function with the passed in arguments\u001b[39;00m\n\u001b[32m    197\u001b[39m \u001b[33;03m:rtype: tuple(dict, dict)\u001b[39;00m\n\u001b[32m    198\u001b[39m \u001b[33;03m\"\"\"\u001b[39;00m\n\u001b[32m--> \u001b[39m\u001b[32m199\u001b[39m \u001b[38;5;28;01mreturn\u001b[39;00m \u001b[43mfunction\u001b[49m\u001b[43m(\u001b[49m\u001b[43m*\u001b[49m\u001b[43margs\u001b[49m\u001b[43m,\u001b[49m\u001b[43m \u001b[49m\u001b[43m*\u001b[49m\u001b[43m*\u001b[49m\u001b[43mkwargs\u001b[49m\u001b[43m)\u001b[49m\n",
      "\u001b[36mFile \u001b[39m\u001b[32mc:\\Users\\david\\AppData\\Local\\pypoetry\\Cache\\virtualenvs\\wadden-sea-backend-reK0EWmf-py3.12\\Lib\\site-packages\\azure\\cosmos\\_synchronized_request.py:148\u001b[39m, in \u001b[36m_Request\u001b[39m\u001b[34m(global_endpoint_manager, request_params, connection_policy, pipeline_client, request, **kwargs)\u001b[39m\n\u001b[32m    147\u001b[39m \u001b[38;5;28;01mif\u001b[39;00m response.status_code == \u001b[32m404\u001b[39m:\n\u001b[32m--> \u001b[39m\u001b[32m148\u001b[39m     \u001b[38;5;28;01mraise\u001b[39;00m exceptions.CosmosResourceNotFoundError(message=data, response=response)\n\u001b[32m    149\u001b[39m \u001b[38;5;28;01mif\u001b[39;00m response.status_code == \u001b[32m409\u001b[39m:\n",
      "\u001b[31mCosmosResourceNotFoundError\u001b[39m: (NotFound) Message: {\"Errors\":[\"Resource Not Found. Learn more: https://aka.ms/cosmosdb-tsg-not-found\"]}\r\nActivityId: ff59b654-9f97-4e4f-ab47-00340d07ee48, Request URI: /apps/9123a7fd-5225-42af-a2d5-20c920d5bf0e/services/bc5e50fb-5f6a-43b6-9998-e7050dbc3673/partitions/99e0c5f0-69f5-4acb-a9c3-42a2796df645/replicas/134032746103671062s, RequestStats: , SDK: Microsoft.Azure.Documents.Common/2.14.0\nCode: NotFound\nMessage: Message: {\"Errors\":[\"Resource Not Found. Learn more: https://aka.ms/cosmosdb-tsg-not-found\"]}\r\nActivityId: ff59b654-9f97-4e4f-ab47-00340d07ee48, Request URI: /apps/9123a7fd-5225-42af-a2d5-20c920d5bf0e/services/bc5e50fb-5f6a-43b6-9998-e7050dbc3673/partitions/99e0c5f0-69f5-4acb-a9c3-42a2796df645/replicas/134032746103671062s, RequestStats: , SDK: Microsoft.Azure.Documents.Common/2.14.0",
      "\nDuring handling of the above exception, another exception occurred:\n",
      "\u001b[31mCosmosHttpResponseError\u001b[39m                   Traceback (most recent call last)",
      "\u001b[36mCell\u001b[39m\u001b[36m \u001b[39m\u001b[32mIn[10]\u001b[39m\u001b[32m, line 36\u001b[39m\n\u001b[32m     33\u001b[39m cosmos_database_properties_test = {}\n\u001b[32m     35\u001b[39m \u001b[38;5;66;03m# create vector store\u001b[39;00m\n\u001b[32m---> \u001b[39m\u001b[32m36\u001b[39m store = \u001b[43mAzureCosmosDBNoSqlVectorSearch\u001b[49m\u001b[43m(\u001b[49m\n\u001b[32m     37\u001b[39m \u001b[43m    \u001b[49m\u001b[43mcosmos_client\u001b[49m\u001b[43m=\u001b[49m\u001b[43mclient\u001b[49m\u001b[43m,\u001b[49m\n\u001b[32m     38\u001b[39m \u001b[43m    \u001b[49m\u001b[43mvector_embedding_policy\u001b[49m\u001b[43m=\u001b[49m\u001b[43mvector_embedding_policy\u001b[49m\u001b[43m,\u001b[49m\n\u001b[32m     39\u001b[39m \u001b[43m    \u001b[49m\u001b[43mindexing_policy\u001b[49m\u001b[43m=\u001b[49m\u001b[43mindexing_policy\u001b[49m\u001b[43m,\u001b[49m\n\u001b[32m     40\u001b[39m \u001b[43m    \u001b[49m\u001b[43mcosmos_container_properties\u001b[49m\u001b[43m=\u001b[49m\u001b[43mcosmos_container_properties_test\u001b[49m\u001b[43m,\u001b[49m\n\u001b[32m     41\u001b[39m \u001b[43m    \u001b[49m\u001b[43mcosmos_database_properties\u001b[49m\u001b[43m=\u001b[49m\u001b[43mcosmos_database_properties_test\u001b[49m\u001b[43m,\u001b[49m\n\u001b[32m     42\u001b[39m \u001b[43m    \u001b[49m\u001b[43mcreate_container\u001b[49m\u001b[43m=\u001b[49m\u001b[38;5;28;43;01mTrue\u001b[39;49;00m\u001b[43m,\u001b[49m\n\u001b[32m     43\u001b[39m \u001b[43m)\u001b[49m\n\u001b[32m     45\u001b[39m storage_context = StorageContext.from_defaults(vector_store=store)\n\u001b[32m     47\u001b[39m index = VectorStoreIndex.from_documents(\n\u001b[32m     48\u001b[39m     documents, storage_context=storage_context\n\u001b[32m     49\u001b[39m )\n",
      "\u001b[36mFile \u001b[39m\u001b[32mc:\\Users\\david\\AppData\\Local\\pypoetry\\Cache\\virtualenvs\\wadden-sea-backend-reK0EWmf-py3.12\\Lib\\site-packages\\llama_index\\vector_stores\\azurecosmosnosql\\base.py:132\u001b[39m, in \u001b[36mAzureCosmosDBNoSqlVectorSearch.__init__\u001b[39m\u001b[34m(self, cosmos_client, vector_embedding_policy, indexing_policy, cosmos_container_properties, cosmos_database_properties, database_name, container_name, create_container, id_key, text_key, metadata_key, **kwargs)\u001b[39m\n\u001b[32m    122\u001b[39m \u001b[38;5;28mself\u001b[39m._database = \u001b[38;5;28mself\u001b[39m._cosmos_client.create_database_if_not_exists(\n\u001b[32m    123\u001b[39m     \u001b[38;5;28mid\u001b[39m=\u001b[38;5;28mself\u001b[39m._database_name,\n\u001b[32m    124\u001b[39m     offer_throughput=\u001b[38;5;28mself\u001b[39m._cosmos_database_properties.get(\u001b[33m\"\u001b[39m\u001b[33moffer_throughput\u001b[39m\u001b[33m\"\u001b[39m),\n\u001b[32m   (...)\u001b[39m\u001b[32m    128\u001b[39m     match_condition=\u001b[38;5;28mself\u001b[39m._cosmos_database_properties.get(\u001b[33m\"\u001b[39m\u001b[33mmatch_condition\u001b[39m\u001b[33m\"\u001b[39m),\n\u001b[32m    129\u001b[39m )\n\u001b[32m    131\u001b[39m \u001b[38;5;66;03m# Create the collection if it already doesn't exist\u001b[39;00m\n\u001b[32m--> \u001b[39m\u001b[32m132\u001b[39m \u001b[38;5;28mself\u001b[39m._container = \u001b[38;5;28;43mself\u001b[39;49m\u001b[43m.\u001b[49m\u001b[43m_database\u001b[49m\u001b[43m.\u001b[49m\u001b[43mcreate_container_if_not_exists\u001b[49m\u001b[43m(\u001b[49m\n\u001b[32m    133\u001b[39m \u001b[43m    \u001b[49m\u001b[38;5;28;43mid\u001b[39;49m\u001b[43m=\u001b[49m\u001b[38;5;28;43mself\u001b[39;49m\u001b[43m.\u001b[49m\u001b[43m_container_name\u001b[49m\u001b[43m,\u001b[49m\n\u001b[32m    134\u001b[39m \u001b[43m    \u001b[49m\u001b[43mpartition_key\u001b[49m\u001b[43m=\u001b[49m\u001b[38;5;28;43mself\u001b[39;49m\u001b[43m.\u001b[49m\u001b[43m_cosmos_container_properties\u001b[49m\u001b[43m[\u001b[49m\u001b[33;43m\"\u001b[39;49m\u001b[33;43mpartition_key\u001b[39;49m\u001b[33;43m\"\u001b[39;49m\u001b[43m]\u001b[49m\u001b[43m,\u001b[49m\n\u001b[32m    135\u001b[39m \u001b[43m    \u001b[49m\u001b[43mindexing_policy\u001b[49m\u001b[43m=\u001b[49m\u001b[38;5;28;43mself\u001b[39;49m\u001b[43m.\u001b[49m\u001b[43m_indexing_policy\u001b[49m\u001b[43m,\u001b[49m\n\u001b[32m    136\u001b[39m \u001b[43m    \u001b[49m\u001b[43mdefault_ttl\u001b[49m\u001b[43m=\u001b[49m\u001b[38;5;28;43mself\u001b[39;49m\u001b[43m.\u001b[49m\u001b[43m_cosmos_container_properties\u001b[49m\u001b[43m.\u001b[49m\u001b[43mget\u001b[49m\u001b[43m(\u001b[49m\u001b[33;43m\"\u001b[39;49m\u001b[33;43mdefault_ttl\u001b[39;49m\u001b[33;43m\"\u001b[39;49m\u001b[43m)\u001b[49m\u001b[43m,\u001b[49m\n\u001b[32m    137\u001b[39m \u001b[43m    \u001b[49m\u001b[43moffer_throughput\u001b[49m\u001b[43m=\u001b[49m\u001b[38;5;28;43mself\u001b[39;49m\u001b[43m.\u001b[49m\u001b[43m_cosmos_container_properties\u001b[49m\u001b[43m.\u001b[49m\u001b[43mget\u001b[49m\u001b[43m(\u001b[49m\u001b[33;43m\"\u001b[39;49m\u001b[33;43moffer_throughput\u001b[39;49m\u001b[33;43m\"\u001b[39;49m\u001b[43m)\u001b[49m\u001b[43m,\u001b[49m\n\u001b[32m    138\u001b[39m \u001b[43m    \u001b[49m\u001b[43munique_key_policy\u001b[49m\u001b[43m=\u001b[49m\u001b[38;5;28;43mself\u001b[39;49m\u001b[43m.\u001b[49m\u001b[43m_cosmos_container_properties\u001b[49m\u001b[43m.\u001b[49m\u001b[43mget\u001b[49m\u001b[43m(\u001b[49m\n\u001b[32m    139\u001b[39m \u001b[43m        \u001b[49m\u001b[33;43m\"\u001b[39;49m\u001b[33;43munique_key_policy\u001b[39;49m\u001b[33;43m\"\u001b[39;49m\n\u001b[32m    140\u001b[39m \u001b[43m    \u001b[49m\u001b[43m)\u001b[49m\u001b[43m,\u001b[49m\n\u001b[32m    141\u001b[39m \u001b[43m    \u001b[49m\u001b[43mconflict_resolution_policy\u001b[49m\u001b[43m=\u001b[49m\u001b[38;5;28;43mself\u001b[39;49m\u001b[43m.\u001b[49m\u001b[43m_cosmos_container_properties\u001b[49m\u001b[43m.\u001b[49m\u001b[43mget\u001b[49m\u001b[43m(\u001b[49m\n\u001b[32m    142\u001b[39m \u001b[43m        \u001b[49m\u001b[33;43m\"\u001b[39;49m\u001b[33;43mconflict_resolution_policy\u001b[39;49m\u001b[33;43m\"\u001b[39;49m\n\u001b[32m    143\u001b[39m \u001b[43m    \u001b[49m\u001b[43m)\u001b[49m\u001b[43m,\u001b[49m\n\u001b[32m    144\u001b[39m \u001b[43m    \u001b[49m\u001b[43manalytical_storage_ttl\u001b[49m\u001b[43m=\u001b[49m\u001b[38;5;28;43mself\u001b[39;49m\u001b[43m.\u001b[49m\u001b[43m_cosmos_container_properties\u001b[49m\u001b[43m.\u001b[49m\u001b[43mget\u001b[49m\u001b[43m(\u001b[49m\n\u001b[32m    145\u001b[39m \u001b[43m        \u001b[49m\u001b[33;43m\"\u001b[39;49m\u001b[33;43manalytical_storage_ttl\u001b[39;49m\u001b[33;43m\"\u001b[39;49m\n\u001b[32m    146\u001b[39m \u001b[43m    \u001b[49m\u001b[43m)\u001b[49m\u001b[43m,\u001b[49m\n\u001b[32m    147\u001b[39m \u001b[43m    \u001b[49m\u001b[43mcomputed_properties\u001b[49m\u001b[43m=\u001b[49m\u001b[38;5;28;43mself\u001b[39;49m\u001b[43m.\u001b[49m\u001b[43m_cosmos_container_properties\u001b[49m\u001b[43m.\u001b[49m\u001b[43mget\u001b[49m\u001b[43m(\u001b[49m\n\u001b[32m    148\u001b[39m \u001b[43m        \u001b[49m\u001b[33;43m\"\u001b[39;49m\u001b[33;43mcomputed_properties\u001b[39;49m\u001b[33;43m\"\u001b[39;49m\n\u001b[32m    149\u001b[39m \u001b[43m    \u001b[49m\u001b[43m)\u001b[49m\u001b[43m,\u001b[49m\n\u001b[32m    150\u001b[39m \u001b[43m    \u001b[49m\u001b[43metag\u001b[49m\u001b[43m=\u001b[49m\u001b[38;5;28;43mself\u001b[39;49m\u001b[43m.\u001b[49m\u001b[43m_cosmos_container_properties\u001b[49m\u001b[43m.\u001b[49m\u001b[43mget\u001b[49m\u001b[43m(\u001b[49m\u001b[33;43m\"\u001b[39;49m\u001b[33;43metag\u001b[39;49m\u001b[33;43m\"\u001b[39;49m\u001b[43m)\u001b[49m\u001b[43m,\u001b[49m\n\u001b[32m    151\u001b[39m \u001b[43m    \u001b[49m\u001b[43mmatch_condition\u001b[49m\u001b[43m=\u001b[49m\u001b[38;5;28;43mself\u001b[39;49m\u001b[43m.\u001b[49m\u001b[43m_cosmos_container_properties\u001b[49m\u001b[43m.\u001b[49m\u001b[43mget\u001b[49m\u001b[43m(\u001b[49m\u001b[33;43m\"\u001b[39;49m\u001b[33;43mmatch_condition\u001b[39;49m\u001b[33;43m\"\u001b[39;49m\u001b[43m)\u001b[49m\u001b[43m,\u001b[49m\n\u001b[32m    152\u001b[39m \u001b[43m    \u001b[49m\u001b[43msession_token\u001b[49m\u001b[43m=\u001b[49m\u001b[38;5;28;43mself\u001b[39;49m\u001b[43m.\u001b[49m\u001b[43m_cosmos_container_properties\u001b[49m\u001b[43m.\u001b[49m\u001b[43mget\u001b[49m\u001b[43m(\u001b[49m\u001b[33;43m\"\u001b[39;49m\u001b[33;43msession_token\u001b[39;49m\u001b[33;43m\"\u001b[39;49m\u001b[43m)\u001b[49m\u001b[43m,\u001b[49m\n\u001b[32m    153\u001b[39m \u001b[43m    \u001b[49m\u001b[43minitial_headers\u001b[49m\u001b[43m=\u001b[49m\u001b[38;5;28;43mself\u001b[39;49m\u001b[43m.\u001b[49m\u001b[43m_cosmos_container_properties\u001b[49m\u001b[43m.\u001b[49m\u001b[43mget\u001b[49m\u001b[43m(\u001b[49m\u001b[33;43m\"\u001b[39;49m\u001b[33;43minitial_headers\u001b[39;49m\u001b[33;43m\"\u001b[39;49m\u001b[43m)\u001b[49m\u001b[43m,\u001b[49m\n\u001b[32m    154\u001b[39m \u001b[43m    \u001b[49m\u001b[43mvector_embedding_policy\u001b[49m\u001b[43m=\u001b[49m\u001b[38;5;28;43mself\u001b[39;49m\u001b[43m.\u001b[49m\u001b[43m_vector_embedding_policy\u001b[49m\u001b[43m,\u001b[49m\n\u001b[32m    155\u001b[39m \u001b[43m\u001b[49m\u001b[43m)\u001b[49m\n",
      "\u001b[36mFile \u001b[39m\u001b[32mc:\\Users\\david\\AppData\\Local\\pypoetry\\Cache\\virtualenvs\\wadden-sea-backend-reK0EWmf-py3.12\\Lib\\site-packages\\azure\\core\\tracing\\decorator.py:119\u001b[39m, in \u001b[36mdistributed_trace.<locals>.decorator.<locals>.wrapper_use_tracer\u001b[39m\u001b[34m(*args, **kwargs)\u001b[39m\n\u001b[32m    117\u001b[39m \u001b[38;5;66;03m# If tracing is disabled globally and user didn't explicitly enable it, don't trace.\u001b[39;00m\n\u001b[32m    118\u001b[39m \u001b[38;5;28;01mif\u001b[39;00m user_enabled \u001b[38;5;129;01mis\u001b[39;00m \u001b[38;5;28;01mFalse\u001b[39;00m \u001b[38;5;129;01mor\u001b[39;00m (\u001b[38;5;129;01mnot\u001b[39;00m tracing_enabled \u001b[38;5;129;01mand\u001b[39;00m user_enabled \u001b[38;5;129;01mis\u001b[39;00m \u001b[38;5;28;01mNone\u001b[39;00m):\n\u001b[32m--> \u001b[39m\u001b[32m119\u001b[39m     \u001b[38;5;28;01mreturn\u001b[39;00m \u001b[43mfunc\u001b[49m\u001b[43m(\u001b[49m\u001b[43m*\u001b[49m\u001b[43margs\u001b[49m\u001b[43m,\u001b[49m\u001b[43m \u001b[49m\u001b[43m*\u001b[49m\u001b[43m*\u001b[49m\u001b[43mkwargs\u001b[49m\u001b[43m)\u001b[49m\n\u001b[32m    121\u001b[39m \u001b[38;5;66;03m# Merge span is parameter is set, but only if no explicit parent are passed\u001b[39;00m\n\u001b[32m    122\u001b[39m \u001b[38;5;28;01mif\u001b[39;00m merge_span \u001b[38;5;129;01mand\u001b[39;00m \u001b[38;5;129;01mnot\u001b[39;00m passed_in_parent:\n",
      "\u001b[36mFile \u001b[39m\u001b[32mc:\\Users\\david\\AppData\\Local\\pypoetry\\Cache\\virtualenvs\\wadden-sea-backend-reK0EWmf-py3.12\\Lib\\site-packages\\azure\\cosmos\\database.py:346\u001b[39m, in \u001b[36mDatabaseProxy.create_container_if_not_exists\u001b[39m\u001b[34m(self, id, partition_key, indexing_policy, default_ttl, populate_query_metrics, offer_throughput, unique_key_policy, conflict_resolution_policy, session_token, initial_headers, etag, match_condition, analytical_storage_ttl, vector_embedding_policy, full_text_policy, **kwargs)\u001b[39m\n\u001b[32m    344\u001b[39m     \u001b[38;5;28;01mreturn\u001b[39;00m container_proxy\n\u001b[32m    345\u001b[39m \u001b[38;5;28;01mexcept\u001b[39;00m CosmosResourceNotFoundError:\n\u001b[32m--> \u001b[39m\u001b[32m346\u001b[39m     \u001b[38;5;28;01mreturn\u001b[39;00m \u001b[38;5;28;43mself\u001b[39;49m\u001b[43m.\u001b[49m\u001b[43mcreate_container\u001b[49m\u001b[43m(\u001b[49m\n\u001b[32m    347\u001b[39m \u001b[43m        \u001b[49m\u001b[38;5;28;43mid\u001b[39;49m\u001b[43m=\u001b[49m\u001b[38;5;28;43mid\u001b[39;49m\u001b[43m,\u001b[49m\n\u001b[32m    348\u001b[39m \u001b[43m        \u001b[49m\u001b[43mpartition_key\u001b[49m\u001b[43m=\u001b[49m\u001b[43mpartition_key\u001b[49m\u001b[43m,\u001b[49m\n\u001b[32m    349\u001b[39m \u001b[43m        \u001b[49m\u001b[43mindexing_policy\u001b[49m\u001b[43m=\u001b[49m\u001b[43mindexing_policy\u001b[49m\u001b[43m,\u001b[49m\n\u001b[32m    350\u001b[39m \u001b[43m        \u001b[49m\u001b[43mdefault_ttl\u001b[49m\u001b[43m=\u001b[49m\u001b[43mdefault_ttl\u001b[49m\u001b[43m,\u001b[49m\n\u001b[32m    351\u001b[39m \u001b[43m        \u001b[49m\u001b[43mpopulate_query_metrics\u001b[49m\u001b[43m=\u001b[49m\u001b[43mpopulate_query_metrics\u001b[49m\u001b[43m,\u001b[49m\n\u001b[32m    352\u001b[39m \u001b[43m        \u001b[49m\u001b[43moffer_throughput\u001b[49m\u001b[43m=\u001b[49m\u001b[43moffer_throughput\u001b[49m\u001b[43m,\u001b[49m\n\u001b[32m    353\u001b[39m \u001b[43m        \u001b[49m\u001b[43munique_key_policy\u001b[49m\u001b[43m=\u001b[49m\u001b[43munique_key_policy\u001b[49m\u001b[43m,\u001b[49m\n\u001b[32m    354\u001b[39m \u001b[43m        \u001b[49m\u001b[43mconflict_resolution_policy\u001b[49m\u001b[43m=\u001b[49m\u001b[43mconflict_resolution_policy\u001b[49m\u001b[43m,\u001b[49m\n\u001b[32m    355\u001b[39m \u001b[43m        \u001b[49m\u001b[43manalytical_storage_ttl\u001b[49m\u001b[43m=\u001b[49m\u001b[43manalytical_storage_ttl\u001b[49m\u001b[43m,\u001b[49m\n\u001b[32m    356\u001b[39m \u001b[43m        \u001b[49m\u001b[43mcomputed_properties\u001b[49m\u001b[43m=\u001b[49m\u001b[43mcomputed_properties\u001b[49m\u001b[43m,\u001b[49m\n\u001b[32m    357\u001b[39m \u001b[43m        \u001b[49m\u001b[43metag\u001b[49m\u001b[43m=\u001b[49m\u001b[43metag\u001b[49m\u001b[43m,\u001b[49m\n\u001b[32m    358\u001b[39m \u001b[43m        \u001b[49m\u001b[43mmatch_condition\u001b[49m\u001b[43m=\u001b[49m\u001b[43mmatch_condition\u001b[49m\u001b[43m,\u001b[49m\n\u001b[32m    359\u001b[39m \u001b[43m        \u001b[49m\u001b[43msession_token\u001b[49m\u001b[43m=\u001b[49m\u001b[43msession_token\u001b[49m\u001b[43m,\u001b[49m\n\u001b[32m    360\u001b[39m \u001b[43m        \u001b[49m\u001b[43minitial_headers\u001b[49m\u001b[43m=\u001b[49m\u001b[43minitial_headers\u001b[49m\u001b[43m,\u001b[49m\n\u001b[32m    361\u001b[39m \u001b[43m        \u001b[49m\u001b[43mvector_embedding_policy\u001b[49m\u001b[43m=\u001b[49m\u001b[43mvector_embedding_policy\u001b[49m\u001b[43m,\u001b[49m\n\u001b[32m    362\u001b[39m \u001b[43m        \u001b[49m\u001b[43mfull_text_policy\u001b[49m\u001b[43m=\u001b[49m\u001b[43mfull_text_policy\u001b[49m\u001b[43m,\u001b[49m\n\u001b[32m    363\u001b[39m \u001b[43m        \u001b[49m\u001b[43m*\u001b[49m\u001b[43m*\u001b[49m\u001b[43mkwargs\u001b[49m\n\u001b[32m    364\u001b[39m \u001b[43m    \u001b[49m\u001b[43m)\u001b[49m\n",
      "\u001b[36mFile \u001b[39m\u001b[32mc:\\Users\\david\\AppData\\Local\\pypoetry\\Cache\\virtualenvs\\wadden-sea-backend-reK0EWmf-py3.12\\Lib\\site-packages\\azure\\core\\tracing\\decorator.py:119\u001b[39m, in \u001b[36mdistributed_trace.<locals>.decorator.<locals>.wrapper_use_tracer\u001b[39m\u001b[34m(*args, **kwargs)\u001b[39m\n\u001b[32m    117\u001b[39m \u001b[38;5;66;03m# If tracing is disabled globally and user didn't explicitly enable it, don't trace.\u001b[39;00m\n\u001b[32m    118\u001b[39m \u001b[38;5;28;01mif\u001b[39;00m user_enabled \u001b[38;5;129;01mis\u001b[39;00m \u001b[38;5;28;01mFalse\u001b[39;00m \u001b[38;5;129;01mor\u001b[39;00m (\u001b[38;5;129;01mnot\u001b[39;00m tracing_enabled \u001b[38;5;129;01mand\u001b[39;00m user_enabled \u001b[38;5;129;01mis\u001b[39;00m \u001b[38;5;28;01mNone\u001b[39;00m):\n\u001b[32m--> \u001b[39m\u001b[32m119\u001b[39m     \u001b[38;5;28;01mreturn\u001b[39;00m \u001b[43mfunc\u001b[49m\u001b[43m(\u001b[49m\u001b[43m*\u001b[49m\u001b[43margs\u001b[49m\u001b[43m,\u001b[49m\u001b[43m \u001b[49m\u001b[43m*\u001b[49m\u001b[43m*\u001b[49m\u001b[43mkwargs\u001b[49m\u001b[43m)\u001b[49m\n\u001b[32m    121\u001b[39m \u001b[38;5;66;03m# Merge span is parameter is set, but only if no explicit parent are passed\u001b[39;00m\n\u001b[32m    122\u001b[39m \u001b[38;5;28;01mif\u001b[39;00m merge_span \u001b[38;5;129;01mand\u001b[39;00m \u001b[38;5;129;01mnot\u001b[39;00m passed_in_parent:\n",
      "\u001b[36mFile \u001b[39m\u001b[32mc:\\Users\\david\\AppData\\Local\\pypoetry\\Cache\\virtualenvs\\wadden-sea-backend-reK0EWmf-py3.12\\Lib\\site-packages\\azure\\cosmos\\database.py:272\u001b[39m, in \u001b[36mDatabaseProxy.create_container\u001b[39m\u001b[34m(self, id, partition_key, indexing_policy, default_ttl, populate_query_metrics, offer_throughput, unique_key_policy, conflict_resolution_policy, session_token, initial_headers, etag, match_condition, analytical_storage_ttl, vector_embedding_policy, full_text_policy, **kwargs)\u001b[39m\n\u001b[32m    270\u001b[39m     request_options[\u001b[33m\"\u001b[39m\u001b[33mpopulateQueryMetrics\u001b[39m\u001b[33m\"\u001b[39m] = populate_query_metrics\n\u001b[32m    271\u001b[39m _set_throughput_options(offer=offer_throughput, request_options=request_options)\n\u001b[32m--> \u001b[39m\u001b[32m272\u001b[39m result = \u001b[38;5;28;43mself\u001b[39;49m\u001b[43m.\u001b[49m\u001b[43mclient_connection\u001b[49m\u001b[43m.\u001b[49m\u001b[43mCreateContainer\u001b[49m\u001b[43m(\u001b[49m\n\u001b[32m    273\u001b[39m \u001b[43m    \u001b[49m\u001b[43mdatabase_link\u001b[49m\u001b[43m=\u001b[49m\u001b[38;5;28;43mself\u001b[39;49m\u001b[43m.\u001b[49m\u001b[43mdatabase_link\u001b[49m\u001b[43m,\u001b[49m\u001b[43m \u001b[49m\u001b[43mcollection\u001b[49m\u001b[43m=\u001b[49m\u001b[43mdefinition\u001b[49m\u001b[43m,\u001b[49m\u001b[43m \u001b[49m\u001b[43moptions\u001b[49m\u001b[43m=\u001b[49m\u001b[43mrequest_options\u001b[49m\u001b[43m,\u001b[49m\u001b[43m \u001b[49m\u001b[43m*\u001b[49m\u001b[43m*\u001b[49m\u001b[43mkwargs\u001b[49m\n\u001b[32m    274\u001b[39m \u001b[43m\u001b[49m\u001b[43m)\u001b[49m\n\u001b[32m    276\u001b[39m \u001b[38;5;28;01mreturn\u001b[39;00m ContainerProxy(\u001b[38;5;28mself\u001b[39m.client_connection, \u001b[38;5;28mself\u001b[39m.database_link, result[\u001b[33m\"\u001b[39m\u001b[33mid\u001b[39m\u001b[33m\"\u001b[39m], properties=result)\n",
      "\u001b[36mFile \u001b[39m\u001b[32mc:\\Users\\david\\AppData\\Local\\pypoetry\\Cache\\virtualenvs\\wadden-sea-backend-reK0EWmf-py3.12\\Lib\\site-packages\\azure\\cosmos\\_cosmos_client_connection.py:534\u001b[39m, in \u001b[36mCosmosClientConnection.CreateContainer\u001b[39m\u001b[34m(self, database_link, collection, options, **kwargs)\u001b[39m\n\u001b[32m    532\u001b[39m path = base.GetPathFromLink(database_link, \u001b[33m\"\u001b[39m\u001b[33mcolls\u001b[39m\u001b[33m\"\u001b[39m)\n\u001b[32m    533\u001b[39m database_id = base.GetResourceIdOrFullNameFromLink(database_link)\n\u001b[32m--> \u001b[39m\u001b[32m534\u001b[39m \u001b[38;5;28;01mreturn\u001b[39;00m \u001b[38;5;28;43mself\u001b[39;49m\u001b[43m.\u001b[49m\u001b[43mCreate\u001b[49m\u001b[43m(\u001b[49m\u001b[43mcollection\u001b[49m\u001b[43m,\u001b[49m\u001b[43m \u001b[49m\u001b[43mpath\u001b[49m\u001b[43m,\u001b[49m\u001b[43m \u001b[49m\u001b[33;43m\"\u001b[39;49m\u001b[33;43mcolls\u001b[39;49m\u001b[33;43m\"\u001b[39;49m\u001b[43m,\u001b[49m\u001b[43m \u001b[49m\u001b[43mdatabase_id\u001b[49m\u001b[43m,\u001b[49m\u001b[43m \u001b[49m\u001b[38;5;28;43;01mNone\u001b[39;49;00m\u001b[43m,\u001b[49m\u001b[43m \u001b[49m\u001b[43moptions\u001b[49m\u001b[43m,\u001b[49m\u001b[43m \u001b[49m\u001b[43m*\u001b[49m\u001b[43m*\u001b[49m\u001b[43mkwargs\u001b[49m\u001b[43m)\u001b[49m\n",
      "\u001b[36mFile \u001b[39m\u001b[32mc:\\Users\\david\\AppData\\Local\\pypoetry\\Cache\\virtualenvs\\wadden-sea-backend-reK0EWmf-py3.12\\Lib\\site-packages\\azure\\cosmos\\_cosmos_client_connection.py:2618\u001b[39m, in \u001b[36mCosmosClientConnection.Create\u001b[39m\u001b[34m(self, body, path, typ, id, initial_headers, options, **kwargs)\u001b[39m\n\u001b[32m   2615\u001b[39m \u001b[38;5;66;03m# Create will use WriteEndpoint since it uses POST operation\u001b[39;00m\n\u001b[32m   2617\u001b[39m request_params = RequestObject(typ, documents._OperationType.Create)\n\u001b[32m-> \u001b[39m\u001b[32m2618\u001b[39m result, last_response_headers = \u001b[38;5;28;43mself\u001b[39;49m\u001b[43m.\u001b[49m\u001b[43m__Post\u001b[49m\u001b[43m(\u001b[49m\u001b[43mpath\u001b[49m\u001b[43m,\u001b[49m\u001b[43m \u001b[49m\u001b[43mrequest_params\u001b[49m\u001b[43m,\u001b[49m\u001b[43m \u001b[49m\u001b[43mbody\u001b[49m\u001b[43m,\u001b[49m\u001b[43m \u001b[49m\u001b[43mheaders\u001b[49m\u001b[43m,\u001b[49m\u001b[43m \u001b[49m\u001b[43m*\u001b[49m\u001b[43m*\u001b[49m\u001b[43mkwargs\u001b[49m\u001b[43m)\u001b[49m\n\u001b[32m   2619\u001b[39m \u001b[38;5;28mself\u001b[39m.last_response_headers = last_response_headers\n\u001b[32m   2621\u001b[39m \u001b[38;5;66;03m# update session for write request\u001b[39;00m\n",
      "\u001b[36mFile \u001b[39m\u001b[32mc:\\Users\\david\\AppData\\Local\\pypoetry\\Cache\\virtualenvs\\wadden-sea-backend-reK0EWmf-py3.12\\Lib\\site-packages\\azure\\cosmos\\_cosmos_client_connection.py:2837\u001b[39m, in \u001b[36mCosmosClientConnection.__Post\u001b[39m\u001b[34m(self, path, request_params, body, req_headers, **kwargs)\u001b[39m\n\u001b[32m   2827\u001b[39m \u001b[38;5;250m\u001b[39m\u001b[33;03m\"\"\"Azure Cosmos 'POST' http request.\u001b[39;00m\n\u001b[32m   2828\u001b[39m \n\u001b[32m   2829\u001b[39m \u001b[33;03m:param str path: the url to be used for the request.\u001b[39;00m\n\u001b[32m   (...)\u001b[39m\u001b[32m   2834\u001b[39m \u001b[33;03m:rtype: tuple of (dict, dict)\u001b[39;00m\n\u001b[32m   2835\u001b[39m \u001b[33;03m\"\"\"\u001b[39;00m\n\u001b[32m   2836\u001b[39m request = \u001b[38;5;28mself\u001b[39m.pipeline_client.post(url=path, headers=req_headers)\n\u001b[32m-> \u001b[39m\u001b[32m2837\u001b[39m \u001b[38;5;28;01mreturn\u001b[39;00m \u001b[43msynchronized_request\u001b[49m\u001b[43m.\u001b[49m\u001b[43mSynchronizedRequest\u001b[49m\u001b[43m(\u001b[49m\n\u001b[32m   2838\u001b[39m \u001b[43m    \u001b[49m\u001b[43mclient\u001b[49m\u001b[43m=\u001b[49m\u001b[38;5;28;43mself\u001b[39;49m\u001b[43m,\u001b[49m\n\u001b[32m   2839\u001b[39m \u001b[43m    \u001b[49m\u001b[43mrequest_params\u001b[49m\u001b[43m=\u001b[49m\u001b[43mrequest_params\u001b[49m\u001b[43m,\u001b[49m\n\u001b[32m   2840\u001b[39m \u001b[43m    \u001b[49m\u001b[43mglobal_endpoint_manager\u001b[49m\u001b[43m=\u001b[49m\u001b[38;5;28;43mself\u001b[39;49m\u001b[43m.\u001b[49m\u001b[43m_global_endpoint_manager\u001b[49m\u001b[43m,\u001b[49m\n\u001b[32m   2841\u001b[39m \u001b[43m    \u001b[49m\u001b[43mconnection_policy\u001b[49m\u001b[43m=\u001b[49m\u001b[38;5;28;43mself\u001b[39;49m\u001b[43m.\u001b[49m\u001b[43mconnection_policy\u001b[49m\u001b[43m,\u001b[49m\n\u001b[32m   2842\u001b[39m \u001b[43m    \u001b[49m\u001b[43mpipeline_client\u001b[49m\u001b[43m=\u001b[49m\u001b[38;5;28;43mself\u001b[39;49m\u001b[43m.\u001b[49m\u001b[43mpipeline_client\u001b[49m\u001b[43m,\u001b[49m\n\u001b[32m   2843\u001b[39m \u001b[43m    \u001b[49m\u001b[43mrequest\u001b[49m\u001b[43m=\u001b[49m\u001b[43mrequest\u001b[49m\u001b[43m,\u001b[49m\n\u001b[32m   2844\u001b[39m \u001b[43m    \u001b[49m\u001b[43mrequest_data\u001b[49m\u001b[43m=\u001b[49m\u001b[43mbody\u001b[49m\u001b[43m,\u001b[49m\n\u001b[32m   2845\u001b[39m \u001b[43m    \u001b[49m\u001b[43m*\u001b[49m\u001b[43m*\u001b[49m\u001b[43mkwargs\u001b[49m\n\u001b[32m   2846\u001b[39m \u001b[43m\u001b[49m\u001b[43m)\u001b[49m\n",
      "\u001b[36mFile \u001b[39m\u001b[32mc:\\Users\\david\\AppData\\Local\\pypoetry\\Cache\\virtualenvs\\wadden-sea-backend-reK0EWmf-py3.12\\Lib\\site-packages\\azure\\cosmos\\_synchronized_request.py:214\u001b[39m, in \u001b[36mSynchronizedRequest\u001b[39m\u001b[34m(client, request_params, global_endpoint_manager, connection_policy, pipeline_client, request, request_data, **kwargs)\u001b[39m\n\u001b[32m    211\u001b[39m     request.headers[http_constants.HttpHeaders.ContentLength] = \u001b[32m0\u001b[39m\n\u001b[32m    213\u001b[39m \u001b[38;5;66;03m# Pass _Request function with its parameters to retry_utility's Execute method that wraps the call with retries\u001b[39;00m\n\u001b[32m--> \u001b[39m\u001b[32m214\u001b[39m \u001b[38;5;28;01mreturn\u001b[39;00m \u001b[43m_retry_utility\u001b[49m\u001b[43m.\u001b[49m\u001b[43mExecute\u001b[49m\u001b[43m(\u001b[49m\n\u001b[32m    215\u001b[39m \u001b[43m    \u001b[49m\u001b[43mclient\u001b[49m\u001b[43m,\u001b[49m\n\u001b[32m    216\u001b[39m \u001b[43m    \u001b[49m\u001b[43mglobal_endpoint_manager\u001b[49m\u001b[43m,\u001b[49m\n\u001b[32m    217\u001b[39m \u001b[43m    \u001b[49m\u001b[43m_Request\u001b[49m\u001b[43m,\u001b[49m\n\u001b[32m    218\u001b[39m \u001b[43m    \u001b[49m\u001b[43mrequest_params\u001b[49m\u001b[43m,\u001b[49m\n\u001b[32m    219\u001b[39m \u001b[43m    \u001b[49m\u001b[43mconnection_policy\u001b[49m\u001b[43m,\u001b[49m\n\u001b[32m    220\u001b[39m \u001b[43m    \u001b[49m\u001b[43mpipeline_client\u001b[49m\u001b[43m,\u001b[49m\n\u001b[32m    221\u001b[39m \u001b[43m    \u001b[49m\u001b[43mrequest\u001b[49m\u001b[43m,\u001b[49m\n\u001b[32m    222\u001b[39m \u001b[43m    \u001b[49m\u001b[43m*\u001b[49m\u001b[43m*\u001b[49m\u001b[43mkwargs\u001b[49m\n\u001b[32m    223\u001b[39m \u001b[43m\u001b[49m\u001b[43m)\u001b[49m\n",
      "\u001b[36mFile \u001b[39m\u001b[32mc:\\Users\\david\\AppData\\Local\\pypoetry\\Cache\\virtualenvs\\wadden-sea-backend-reK0EWmf-py3.12\\Lib\\site-packages\\azure\\cosmos\\_retry_utility.py:97\u001b[39m, in \u001b[36mExecute\u001b[39m\u001b[34m(client, global_endpoint_manager, function, *args, **kwargs)\u001b[39m\n\u001b[32m     95\u001b[39m \u001b[38;5;28;01mtry\u001b[39;00m:\n\u001b[32m     96\u001b[39m     \u001b[38;5;28;01mif\u001b[39;00m args:\n\u001b[32m---> \u001b[39m\u001b[32m97\u001b[39m         result = \u001b[43mExecuteFunction\u001b[49m\u001b[43m(\u001b[49m\u001b[43mfunction\u001b[49m\u001b[43m,\u001b[49m\u001b[43m \u001b[49m\u001b[43mglobal_endpoint_manager\u001b[49m\u001b[43m,\u001b[49m\u001b[43m \u001b[49m\u001b[43m*\u001b[49m\u001b[43margs\u001b[49m\u001b[43m,\u001b[49m\u001b[43m \u001b[49m\u001b[43m*\u001b[49m\u001b[43m*\u001b[49m\u001b[43mkwargs\u001b[49m\u001b[43m)\u001b[49m\n\u001b[32m     98\u001b[39m     \u001b[38;5;28;01melse\u001b[39;00m:\n\u001b[32m     99\u001b[39m         result = ExecuteFunction(function, *args, **kwargs)\n",
      "\u001b[36mFile \u001b[39m\u001b[32mc:\\Users\\david\\AppData\\Local\\pypoetry\\Cache\\virtualenvs\\wadden-sea-backend-reK0EWmf-py3.12\\Lib\\site-packages\\azure\\cosmos\\_retry_utility.py:199\u001b[39m, in \u001b[36mExecuteFunction\u001b[39m\u001b[34m(function, *args, **kwargs)\u001b[39m\n\u001b[32m    192\u001b[39m \u001b[38;5;28;01mdef\u001b[39;00m\u001b[38;5;250m \u001b[39m\u001b[34mExecuteFunction\u001b[39m(function, *args, **kwargs):\n\u001b[32m    193\u001b[39m \u001b[38;5;250m    \u001b[39m\u001b[33;03m\"\"\"Stub method so that it can be used for mocking purposes as well.\u001b[39;00m\n\u001b[32m    194\u001b[39m \u001b[33;03m    :param Callable function: the function to execute.\u001b[39;00m\n\u001b[32m    195\u001b[39m \u001b[33;03m    :param list args: the explicit arguments for the function.\u001b[39;00m\n\u001b[32m    196\u001b[39m \u001b[33;03m    :returns: the result of executing the function with the passed in arguments\u001b[39;00m\n\u001b[32m    197\u001b[39m \u001b[33;03m    :rtype: tuple(dict, dict)\u001b[39;00m\n\u001b[32m    198\u001b[39m \u001b[33;03m    \"\"\"\u001b[39;00m\n\u001b[32m--> \u001b[39m\u001b[32m199\u001b[39m     \u001b[38;5;28;01mreturn\u001b[39;00m \u001b[43mfunction\u001b[49m\u001b[43m(\u001b[49m\u001b[43m*\u001b[49m\u001b[43margs\u001b[49m\u001b[43m,\u001b[49m\u001b[43m \u001b[49m\u001b[43m*\u001b[49m\u001b[43m*\u001b[49m\u001b[43mkwargs\u001b[49m\u001b[43m)\u001b[49m\n",
      "\u001b[36mFile \u001b[39m\u001b[32mc:\\Users\\david\\AppData\\Local\\pypoetry\\Cache\\virtualenvs\\wadden-sea-backend-reK0EWmf-py3.12\\Lib\\site-packages\\azure\\cosmos\\_synchronized_request.py:154\u001b[39m, in \u001b[36m_Request\u001b[39m\u001b[34m(global_endpoint_manager, request_params, connection_policy, pipeline_client, request, **kwargs)\u001b[39m\n\u001b[32m    152\u001b[39m     \u001b[38;5;28;01mraise\u001b[39;00m exceptions.CosmosAccessConditionFailedError(message=data, response=response)\n\u001b[32m    153\u001b[39m \u001b[38;5;28;01mif\u001b[39;00m response.status_code >= \u001b[32m400\u001b[39m:\n\u001b[32m--> \u001b[39m\u001b[32m154\u001b[39m     \u001b[38;5;28;01mraise\u001b[39;00m exceptions.CosmosHttpResponseError(message=data, response=response)\n\u001b[32m    156\u001b[39m result = \u001b[38;5;28;01mNone\u001b[39;00m\n\u001b[32m    157\u001b[39m \u001b[38;5;28;01mif\u001b[39;00m data:\n",
      "\u001b[31mCosmosHttpResponseError\u001b[39m: (BadRequest) Message: {\"Errors\":[\"A Container Vector Policy has been provided, but the capability has not been enabled on your account. Visit [https://aka.ms/CosmosVectorSearch](https://aka.ms/CosmosVectorSearch) for instructions how to enable it.\"]}\r\nActivityId: e85c612d-7d9d-40d9-b413-faeb73f8700a, Request URI: /apps/9123a7fd-5225-42af-a2d5-20c920d5bf0e/services/bc5e50fb-5f6a-43b6-9998-e7050dbc3673/partitions/99e0c5f0-69f5-4acb-a9c3-42a2796df645/replicas/134032746019763574p, RequestStats: , SDK: Microsoft.Azure.Documents.Common/2.14.0\nCode: BadRequest\nMessage: Message: {\"Errors\":[\"A Container Vector Policy has been provided, but the capability has not been enabled on your account. Visit [https://aka.ms/CosmosVectorSearch](https://aka.ms/CosmosVectorSearch) for instructions how to enable it.\"]}\r\nActivityId: e85c612d-7d9d-40d9-b413-faeb73f8700a, Request URI: /apps/9123a7fd-5225-42af-a2d5-20c920d5bf0e/services/bc5e50fb-5f6a-43b6-9998-e7050dbc3673/partitions/99e0c5f0-69f5-4acb-a9c3-42a2796df645/replicas/134032746019763574p, RequestStats: , SDK: Microsoft.Azure.Documents.Common/2.14.0"
     ]
    }
   ],
   "source": [
    "from azure.cosmos import CosmosClient, PartitionKey\n",
    "from llama_index.vector_stores.azurecosmosnosql import (\n",
    "    AzureCosmosDBNoSqlVectorSearch,\n",
    ")\n",
    "from llama_index.core import StorageContext\n",
    "\n",
    "# create cosmos client\n",
    "URI = os.getenv(\"AZURE_COSMOSDB_URI\")\n",
    "KEY = os.getenv(\"AZURE_COSMOSDB_KEY\")\n",
    "client = CosmosClient(URI, credential=KEY)\n",
    "\n",
    "# specify vector store properties\n",
    "indexing_policy = {\n",
    "    \"indexingMode\": \"consistent\",\n",
    "    \"includedPaths\": [{\"path\": \"/*\"}],\n",
    "    \"excludedPaths\": [{\"path\": '/\"_etag\"/?'}],\n",
    "    \"vectorIndexes\": [{\"path\": \"/embedding\", \"type\": \"quantizedFlat\"}],\n",
    "}\n",
    "\n",
    "vector_embedding_policy = {\n",
    "    \"vectorEmbeddings\": [\n",
    "        {\n",
    "            \"path\": \"/embedding\",\n",
    "            \"dataType\": \"float32\",\n",
    "            \"distanceFunction\": \"cosine\",\n",
    "            \"dimensions\": 3072,\n",
    "        }\n",
    "    ]\n",
    "}\n",
    "\n",
    "partition_key = PartitionKey(path=\"/id\")\n",
    "cosmos_container_properties_test = {\"partition_key\": partition_key}\n",
    "cosmos_database_properties_test = {}\n",
    "\n",
    "# create vector store\n",
    "store = AzureCosmosDBNoSqlVectorSearch(\n",
    "    cosmos_client=client,\n",
    "    vector_embedding_policy=vector_embedding_policy,\n",
    "    indexing_policy=indexing_policy,\n",
    "    cosmos_container_properties=cosmos_container_properties_test,\n",
    "    cosmos_database_properties=cosmos_database_properties_test,\n",
    "    create_container=True,\n",
    ")\n",
    "\n",
    "storage_context = StorageContext.from_defaults(vector_store=store)\n",
    "\n",
    "index = VectorStoreIndex.from_documents(\n",
    "    documents, storage_context=storage_context\n",
    ")"
   ]
  },
  {
   "cell_type": "code",
   "execution_count": null,
   "id": "7d3d5a0d",
   "metadata": {},
   "outputs": [],
   "source": [
    "# Alternative: Simple in-memory vector store (temporary workaround)\n",
    "# Use this while waiting for Azure Cosmos DB vector search to be enabled\n",
    "\n",
    "from llama_index.core import VectorStoreIndex, StorageContext\n",
    "from llama_index.vector_stores.simple import SimpleVectorStore\n",
    "\n",
    "# Create a simple in-memory vector store\n",
    "vector_store = SimpleVectorStore()\n",
    "storage_context = StorageContext.from_defaults(vector_store=vector_store)\n",
    "\n",
    "# Create the index with the simple vector store\n",
    "index = VectorStoreIndex.from_documents(\n",
    "    documents, storage_context=storage_context\n",
    ")\n",
    "\n",
    "print(\"Index created successfully with simple vector store!\")\n",
    "print(f\"Number of documents indexed: {len(documents)}\")"
   ]
  }
 ],
 "metadata": {
  "kernelspec": {
   "display_name": "wadden-sea-backend-reK0EWmf-py3.12",
   "language": "python",
   "name": "python3"
  },
  "language_info": {
   "codemirror_mode": {
    "name": "ipython",
    "version": 3
   },
   "file_extension": ".py",
   "mimetype": "text/x-python",
   "name": "python",
   "nbconvert_exporter": "python",
   "pygments_lexer": "ipython3",
   "version": "3.12.6"
  }
 },
 "nbformat": 4,
 "nbformat_minor": 5
}
